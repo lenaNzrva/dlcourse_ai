{
 "cells": [
  {
   "cell_type": "markdown",
   "metadata": {
    "id": "lJsbY2d0TXRJ"
   },
   "source": [
    "# Задание 3.2 - сверточные нейронные сети (CNNs) в PyTorch\n",
    "\n",
    "Это упражнение мы буде выполнять в Google Colab - https://colab.research.google.com/  \n",
    "Google Colab позволяет запускать код в notebook в облаке Google, где можно воспользоваться бесплатным GPU!  \n",
    "\n",
    "Авторы курса благодарят компанию Google и надеятся, что праздник не закончится.\n",
    "\n",
    "Туториал по настройке Google Colab:  \n",
    "https://medium.com/deep-learning-turkey/google-colab-free-gpu-tutorial-e113627b9f5d  \n",
    "(Keras инсталлировать не нужно, наш notebook сам установит PyTorch)\n"
   ]
  },
  {
   "cell_type": "code",
   "execution_count": 1,
   "metadata": {
    "colab": {
     "base_uri": "https://localhost:8080/"
    },
    "id": "FcXBeP1O7cnY",
    "outputId": "edcb2581-891e-4370-a6db-6764e2b8e93b"
   },
   "outputs": [],
   "source": [
    "# Intstall PyTorch and download data\n",
    "# !pip3 install torch torchvision\n",
    "\n",
    "# !wget -c http://ufldl.stanford.edu/housenumbers/train_32x32.mat http://ufldl.stanford.edu/housenumbers/test_32x32.mat"
   ]
  },
  {
   "cell_type": "code",
   "execution_count": 50,
   "metadata": {
    "id": "-afwWw-Q85vD"
   },
   "outputs": [],
   "source": [
    "from collections import namedtuple\n",
    "\n",
    "import matplotlib.pyplot as plt\n",
    "import plotly.express as px\n",
    "import numpy as np\n",
    "import PIL\n",
    "import torch\n",
    "import torch.nn as nn\n",
    "import torch.optim as optim\n",
    "import torchvision.datasets as dset\n",
    "from torch.utils.data.sampler import SubsetRandomSampler\n",
    "from IPython.display import display, Image\n",
    "\n",
    "from torchvision import transforms"
   ]
  },
  {
   "cell_type": "code",
   "execution_count": 2,
   "metadata": {
    "id": "NNU-OD9O9ltP"
   },
   "outputs": [],
   "source": [
    "device = torch.device(\"cuda:0\") # Let's make sure GPU is available!"
   ]
  },
  {
   "cell_type": "code",
   "execution_count": 3,
   "metadata": {
    "colab": {
     "base_uri": "https://localhost:8080/"
    },
    "id": "WAtGMuzOTu4n",
    "outputId": "115501c1-6d19-4b0c-d2dd-2d95c07b8ea5"
   },
   "outputs": [
    {
     "data": {
      "text/plain": [
       "True"
      ]
     },
     "execution_count": 3,
     "metadata": {},
     "output_type": "execute_result"
    }
   ],
   "source": [
    "torch.cuda.is_available()"
   ]
  },
  {
   "cell_type": "markdown",
   "metadata": {
    "id": "UToi5B3XTXRU",
    "tags": []
   },
   "source": [
    "# Загружаем данные"
   ]
  },
  {
   "cell_type": "code",
   "execution_count": 4,
   "metadata": {
    "id": "YAvkoRx-9FsP"
   },
   "outputs": [],
   "source": [
    "# First, lets load the dataset\n",
    "data_train = dset.SVHN('./data', \n",
    "                       transform=transforms.Compose([\n",
    "                           transforms.ToTensor(),\n",
    "                           transforms.Normalize(mean=[0.43,0.44,0.47],\n",
    "                                               std=[0.20,0.20,0.20])                           \n",
    "                       ])\n",
    "                      )\n",
    "data_test = dset.SVHN('./data', split='test', transform=transforms.Compose([\n",
    "                           transforms.ToTensor(),\n",
    "                           transforms.Normalize(mean=[0.43,0.44,0.47],\n",
    "                                               std=[0.20,0.20,0.20])                           \n",
    "                       ]))"
   ]
  },
  {
   "cell_type": "markdown",
   "metadata": {
    "id": "Qq6v3w7uTXRW"
   },
   "source": [
    "Разделяем данные на training и validation.\n",
    "\n",
    "На всякий случай для подробностей - https://pytorch.org/tutorials/beginner/data_loading_tutorial.html"
   ]
  },
  {
   "cell_type": "code",
   "execution_count": 5,
   "metadata": {
    "id": "YRnr8CPg7Hli"
   },
   "outputs": [],
   "source": [
    "batch_size = 64\n",
    "\n",
    "data_size = data_train.data.shape[0]\n",
    "validation_split = .2\n",
    "split = int(np.floor(validation_split * data_size))\n",
    "indices = list(range(data_size))\n",
    "np.random.shuffle(indices)\n",
    "\n",
    "train_indices, val_indices = indices[split:], indices[:split]\n",
    "\n",
    "train_sampler = SubsetRandomSampler(train_indices)\n",
    "val_sampler = SubsetRandomSampler(val_indices)\n",
    "\n",
    "train_loader = torch.utils.data.DataLoader(data_train, batch_size=batch_size, \n",
    "                                           sampler=train_sampler)\n",
    "val_loader = torch.utils.data.DataLoader(data_train, batch_size=batch_size,\n",
    "                                         sampler=val_sampler)"
   ]
  },
  {
   "cell_type": "code",
   "execution_count": 6,
   "metadata": {
    "id": "LyYvt-T67PBG"
   },
   "outputs": [],
   "source": [
    "# We'll use a special helper module to shape it into a flat tensor\n",
    "class Flattener(nn.Module):\n",
    "    def forward(self, x):\n",
    "        batch_size, *_ = x.shape\n",
    "        return x.view(batch_size, -1)"
   ]
  },
  {
   "cell_type": "markdown",
   "metadata": {
    "id": "i_PWW4W4TXRc"
   },
   "source": [
    "Создадим простейшую сеть с новыми слоями:  \n",
    "Convolutional - `nn.Conv2d`  \n",
    "MaxPool - `nn.MaxPool2d`"
   ]
  },
  {
   "cell_type": "code",
   "execution_count": 7,
   "metadata": {
    "id": "w9SFVGZP7SQd"
   },
   "outputs": [],
   "source": [
    "nn_model = nn.Sequential(\n",
    "            nn.Conv2d(3, 64, 3, padding=1),\n",
    "            nn.ReLU(inplace=True),\n",
    "            nn.MaxPool2d(4), #(h/w - pool_size)/self.stride + 1) --> out_h/w = 8\n",
    "            nn.Conv2d(64, 64, 3, padding=1),\n",
    "            nn.ReLU(inplace=True),\n",
    "            nn.MaxPool2d(4), # --> out_h/w = 2\n",
    "            Flattener(),\n",
    "            nn.Linear(64*2*2, 10),\n",
    "          )\n",
    "\n",
    "nn_model.type(torch.cuda.FloatTensor)\n",
    "nn_model.to(device)\n",
    "\n",
    "loss = nn.CrossEntropyLoss().type(torch.cuda.FloatTensor)\n",
    "optimizer = optim.SGD(nn_model.parameters(), lr=1e-1, weight_decay=1e-4)"
   ]
  },
  {
   "cell_type": "markdown",
   "metadata": {
    "id": "cyrjWG2wTXRe"
   },
   "source": [
    "Восстановите функцию `compute_accuracy` из прошлого задания.  \n",
    "Единственное отличие в новом - она должна передать данные на GPU прежде чем прогонять через модель. Сделайте это так же, как это делает функция `train_model`"
   ]
  },
  {
   "cell_type": "code",
   "execution_count": 69,
   "metadata": {
    "colab": {
     "base_uri": "https://localhost:8080/"
    },
    "id": "2ek3KVQK7hJ6",
    "outputId": "db58273a-5f2e-4d81-b2fe-f079bd13ce8d"
   },
   "outputs": [
    {
     "name": "stdout",
     "output_type": "stream",
     "text": [
      "Average loss: 0.655848, Train accuracy: 0.796710, Val accuracy: 0.765625\n",
      "Average loss: 0.655811, Train accuracy: 0.796710, Val accuracy: 0.796875\n",
      "Average loss: 0.655804, Train accuracy: 0.796710, Val accuracy: 0.703125\n",
      "Average loss: 0.655787, Train accuracy: 0.796710, Val accuracy: 0.812500\n",
      "Average loss: 0.655813, Train accuracy: 0.796710, Val accuracy: 0.750000\n"
     ]
    }
   ],
   "source": [
    "def train_model(model, train_loader, val_loader, loss, optimizer, num_epochs, scheduler=None):    \n",
    "    loss_history = []\n",
    "    train_history = []\n",
    "    val_history = []\n",
    "    for epoch in range(num_epochs):\n",
    "        model.train() # Enter train mode\n",
    "        \n",
    "        loss_accum = 0\n",
    "        correct_samples = 0\n",
    "        total_samples = 0\n",
    "        for i_step, (x, y) in enumerate(train_loader):\n",
    "          \n",
    "            x_gpu = x.to(device)\n",
    "            y_gpu = y.to(device)\n",
    "            prediction = model(x_gpu)    \n",
    "            loss_value = loss(prediction, y_gpu)\n",
    "            optimizer.zero_grad()\n",
    "            loss_value.backward()\n",
    "            optimizer.step()\n",
    "            \n",
    "            _, indices = torch.max(prediction, 1)\n",
    "            correct_samples += torch.sum(indices == y_gpu)\n",
    "            total_samples += y.shape[0]\n",
    "            \n",
    "            loss_accum += loss_value\n",
    "\n",
    "        ave_loss = loss_accum / i_step\n",
    "        train_accuracy = float(correct_samples) / total_samples\n",
    "        val_accuracy = compute_accuracy(model, val_loader)\n",
    "        \n",
    "        loss_history.append(float(ave_loss))\n",
    "        train_history.append(train_accuracy)\n",
    "        val_history.append(val_accuracy)\n",
    "        \n",
    "        if scheduler:\n",
    "            scheduler.step()\n",
    "        \n",
    "        print(\"Average loss: %f, Train accuracy: %f, Val accuracy: %f\" % (ave_loss, train_accuracy, val_accuracy))\n",
    "        \n",
    "    return loss_history, train_history, val_history\n",
    "        \n",
    "def compute_accuracy(model, loader):\n",
    "    \"\"\"\n",
    "    Computes accuracy on the dataset wrapped in a loader\n",
    "\n",
    "    Returns: accuracy as a float value between 0 and 1\n",
    "    \"\"\"\n",
    "    model.eval() # Evaluation mode\n",
    "    correct_samples, total_samples = 0, 0\n",
    "    for i_step, (x, y) in enumerate(loader):\n",
    "        x_gpu = x.to(device)\n",
    "        y_gpu = y.to(device)\n",
    "        prediction = model(x_gpu)\n",
    "        _, indices = torch.max(prediction, 1) \n",
    "        correct_samples += torch.sum(indices == y_gpu)\n",
    "        total_samples += y.shape[0]\n",
    "\n",
    "        return correct_samples/total_samples\n",
    "    # TODO: Copy implementation from previous assignment\n",
    "    # Don't forget to move the data to device before running it through the model!\n",
    "\n",
    "    raise Exception(\"Not implemented\")\n",
    "\n",
    "loss_history, train_history, val_history = train_model(nn_model, train_loader, val_loader, loss, optimizer, 5)"
   ]
  },
  {
   "cell_type": "markdown",
   "metadata": {
    "id": "6a-3a1ZFGEw_",
    "tags": []
   },
   "source": [
    "# Аугментация данных (Data augmentation)\n",
    "\n",
    "В работе с изображениями одним из особенно важных методов является аугментация данных - то есть, генерация дополнительных данных для тренировки на основе изначальных.   \n",
    "Таким образом, мы получаем возможность \"увеличить\" набор данных для тренировки, что ведет к лучшей работе сети.\n",
    "Важно, чтобы аугментированные данные были похожи на те, которые могут встретиться в реальной жизни, иначе польза от аугментаций уменьшается и может ухудшить работу сети.\n",
    "\n",
    "С PyTorch идут несколько таких алгоритмов, называемых `transforms`. Более подробно про них можно прочитать тут -\n",
    "https://pytorch.org/tutorials/beginner/data_loading_tutorial.html#transforms\n",
    "\n",
    "Ниже мы используем следующие алгоритмы генерации:\n",
    "- ColorJitter - случайное изменение цвета\n",
    "- RandomHorizontalFlip - горизонтальное отражение с вероятностью 50%\n",
    "- RandomVerticalFlip - вертикальное отражение с вероятностью 50%\n",
    "- RandomRotation - случайный поворот"
   ]
  },
  {
   "cell_type": "code",
   "execution_count": 12,
   "metadata": {
    "id": "jCWMUWmr7t5g"
   },
   "outputs": [],
   "source": [
    "tfs = transforms.Compose([\n",
    "    transforms.ColorJitter(hue=.50, saturation=.50),\n",
    "    transforms.RandomHorizontalFlip(),\n",
    "    transforms.RandomVerticalFlip(),\n",
    "    transforms.RandomRotation(50, resample=PIL.Image.BILINEAR),\n",
    "    transforms.ToTensor(),\n",
    "    transforms.Normalize(mean=[0.43,0.44,0.47],\n",
    "                       std=[0.20,0.20,0.20])                           \n",
    "])\n",
    "\n",
    "# Create augmented train dataset\n",
    "data_aug_train = dset.SVHN('./data', \n",
    "                       transform=tfs\n",
    "                      )\n",
    "\n",
    "train_aug_loader = torch.utils.data.DataLoader(data_aug_train, batch_size=batch_size, \n",
    "                                           sampler=train_sampler)"
   ]
  },
  {
   "cell_type": "markdown",
   "metadata": {
    "id": "3RsDB_bNTXRg"
   },
   "source": [
    "Визуализируем результаты агментации (вообще, смотреть на сгенерированные данные всегда очень полезно)."
   ]
  },
  {
   "cell_type": "code",
   "execution_count": 13,
   "metadata": {
    "id": "YlJJEro1KZ45",
    "tags": []
   },
   "outputs": [
    {
     "data": {
      "image/png": "[encoded data removed]",
      "text/plain": [
       "<Figure size 2160x216 with 10 Axes>"
      ]
     },
     "metadata": {
      "needs_background": "light"
     },
     "output_type": "display_data"
    }
   ],
   "source": [
    "# TODO: Visualize some augmented images!\n",
    "# hint: you can create new datasets and loaders to accomplish this\n",
    "\n",
    "# Based on the visualizations, should we keep all the augmentations?\n",
    "\n",
    "tfs = transforms.Compose([\n",
    "    transforms.ColorJitter(hue=.5, saturation=0),\n",
    "    transforms.RandomHorizontalFlip(),\n",
    "    # transforms.RandomVerticalFlip(), --> bad, 6 will be as 9\n",
    "    transforms.RandomRotation(10, resample=PIL.Image.BILINEAR),\n",
    "    transforms.CenterCrop(29),\n",
    "    transforms.RandomGrayscale(0.1),\n",
    "    transforms.RandomInvert(0.05)\n",
    "])\n",
    "\n",
    "data_aug_vis = dset.SVHN('./data', \n",
    "                       transform=tfs\n",
    "                      )\n",
    "\n",
    "plt.figure(figsize=(30, 3))\n",
    "\n",
    "for i, (x, y) in enumerate(data_aug_vis):\n",
    "    if i == 10:\n",
    "        break\n",
    "    plt.subplot(1, 10, i+1)\n",
    "    plt.grid(False)\n",
    "    plt.imshow(x)\n",
    "    plt.axis('off')"
   ]
  },
  {
   "cell_type": "markdown",
   "metadata": {
    "id": "o2LrmsYHoguB"
   },
   "source": [
    "Все ли агментации одинаково полезны на этом наборе данных? Могут ли быть среди них те, которые собьют модель с толку?\n",
    "\n",
    "Выберите из них только корректные"
   ]
  },
  {
   "cell_type": "code",
   "execution_count": 15,
   "metadata": {
    "id": "evro9ksXGs9u"
   },
   "outputs": [],
   "source": [
    "# TODO: \n",
    "tfs = transforms.Compose([\n",
    "    # TODO: Add good augmentations\n",
    "    transforms.ColorJitter(hue=.5, saturation=0),\n",
    "    transforms.RandomHorizontalFlip(),\n",
    "    # transforms.RandomVerticalFlip(), --> bad, 6 will be as 9\n",
    "    transforms.RandomRotation(10, resample=PIL.Image.BILINEAR),\n",
    "    # transforms.CenterCrop(29),\n",
    "    transforms.RandomGrayscale(0.1),\n",
    "    transforms.RandomInvert(0.05),\n",
    "    transforms.ToTensor(),\n",
    "    transforms.Normalize(mean=[0.43,0.44,0.47],\n",
    "                       std=[0.20,0.20,0.20])                           \n",
    "])\n",
    "\n",
    "# TODO create new instances of loaders with the augmentations you chose\n",
    "data_aug_train = dset.SVHN('./data', \n",
    "                       transform=tfs\n",
    "                      )\n",
    "\n",
    "train_aug_loader = torch.utils.data.DataLoader(data_aug_train, batch_size=batch_size, \n",
    "                                           sampler=train_sampler)"
   ]
  },
  {
   "cell_type": "code",
   "execution_count": 16,
   "metadata": {
    "id": "PeO6Zw0DHqPR"
   },
   "outputs": [
    {
     "name": "stdout",
     "output_type": "stream",
     "text": [
      "Average loss: 1.038802, Train accuracy: 0.661843, Val accuracy: 0.703125\n",
      "Average loss: 0.864746, Train accuracy: 0.719619, Val accuracy: 0.671875\n",
      "Average loss: 0.812066, Train accuracy: 0.738423, Val accuracy: 0.796875\n",
      "Average loss: 0.779899, Train accuracy: 0.751578, Val accuracy: 0.718750\n",
      "Average loss: 0.749541, Train accuracy: 0.763932, Val accuracy: 0.890625\n"
     ]
    }
   ],
   "source": [
    "# Finally, let's train with augmentations!\n",
    "\n",
    "# Note we shouldn't use augmentations on validation\n",
    "\n",
    "loss_history, train_history, val_history = train_model(nn_model, train_aug_loader, val_loader, loss, optimizer, 5)"
   ]
  },
  {
   "cell_type": "markdown",
   "metadata": {
    "id": "r0bcioK6JBDK",
    "tags": []
   },
   "source": [
    "# LeNet\n",
    "Попробуем имплементировать классическую архитектуру сверточной нейронной сети, предложенную Яном ЛеКуном в 1998 году. В свое время она достигла впечатляющих результатов на MNIST, посмотрим как она справится с SVHN?\n",
    "Она описана в статье [\"Gradient Based Learning Applied to Document Recognition\"](http://yann.lecun.com/exdb/publis/pdf/lecun-01a.pdf), попробуйте прочитать ключевые части и имплементировать предложенную архитетуру на PyTorch.\n",
    "\n",
    "Реализовывать слои и функцию ошибки LeNet, которых нет в PyTorch, **не нужно** - просто возьмите их размеры и переведите в уже известные нам Convolutional, Pooling и Fully Connected layers.\n",
    "\n",
    "Если в статье не очень понятно, можно просто погуглить LeNet и разобраться в деталях :)"
   ]
  },
  {
   "cell_type": "code",
   "execution_count": 17,
   "metadata": {
    "id": "ieEzZUglJAUB"
   },
   "outputs": [],
   "source": [
    "# TODO: Implement LeNet-like architecture for SVHN task\n",
    "lenet_model = nn.Sequential(\n",
    "    nn.Conv2d(3, 6, 5, padding='valid'),\n",
    "    nn.MaxPool2d(2),\n",
    "    nn.Conv2d(6, 16, 5, padding='valid'),\n",
    "    nn.MaxPool2d(2),\n",
    "    Flattener(),\n",
    "    nn.Linear(5*5*16, 120),\n",
    "    nn.Tanh(),\n",
    "    nn.Linear(120, 84),\n",
    "    nn.Tanh(),\n",
    "    nn.Linear(84, 10),\n",
    "    )\n",
    "\n",
    "lenet_model.type(torch.cuda.FloatTensor)\n",
    "lenet_model.to(device)\n",
    "\n",
    "loss = nn.CrossEntropyLoss().type(torch.cuda.FloatTensor)\n",
    "optimizer = optim.SGD(lenet_model.parameters(), lr=1e-1, weight_decay=1e-4)"
   ]
  },
  {
   "cell_type": "code",
   "execution_count": 18,
   "metadata": {
    "id": "WMmaPfdeKk9H"
   },
   "outputs": [
    {
     "name": "stdout",
     "output_type": "stream",
     "text": [
      "Average loss: 1.307959, Train accuracy: 0.557673, Val accuracy: 0.734375\n",
      "Average loss: 0.781636, Train accuracy: 0.754104, Val accuracy: 0.843750\n",
      "Average loss: 0.715868, Train accuracy: 0.773385, Val accuracy: 0.828125\n",
      "Average loss: 0.681535, Train accuracy: 0.785346, Val accuracy: 0.859375\n",
      "Average loss: 0.665869, Train accuracy: 0.789612, Val accuracy: 0.859375\n",
      "Average loss: 0.656277, Train accuracy: 0.793554, Val accuracy: 0.796875\n",
      "Average loss: 0.657995, Train accuracy: 0.790977, Val accuracy: 0.875000\n",
      "Average loss: 0.656694, Train accuracy: 0.792803, Val accuracy: 0.765625\n",
      "Average loss: 0.671967, Train accuracy: 0.785449, Val accuracy: 0.812500\n",
      "Average loss: 0.685180, Train accuracy: 0.781473, Val accuracy: 0.828125\n"
     ]
    }
   ],
   "source": [
    "# Let's train it!\n",
    "loss_history, train_history, val_history = train_model(lenet_model, train_aug_loader, val_loader, loss, optimizer, 10)"
   ]
  },
  {
   "cell_type": "markdown",
   "metadata": {
    "id": "u_O9qiYySvuj",
    "tags": []
   },
   "source": [
    "# Подбор гиперпараметров"
   ]
  },
  {
   "cell_type": "code",
   "execution_count": 51,
   "metadata": {
    "id": "i6mhfdQ9K-N3"
   },
   "outputs": [],
   "source": [
    "# The key hyperparameters we're going to tune are learning speed, annealing rate and regularization\n",
    "# We also encourage you to try different optimizers as well\n",
    "\n",
    "Hyperparams = namedtuple(\"Hyperparams\", ['learning_rate', 'anneal_epochs', 'reg'])\n",
    "RunResult = namedtuple(\"RunResult\", ['model', 'train_history', 'val_history', 'final_val_accuracy'])\n",
    "\n",
    "learning_rates = [1e0, 1e-1, 1e-2, 1e-3, 1e-4]\n",
    "anneal_coeff = 0.2\n",
    "anneal_epochs = [1, 5, 10, 15, 20, 50]\n",
    "reg = [1e-3, 1e-4, 1e-5, 1e-7]\n",
    "\n",
    "batch_size = 64\n",
    "epoch_num = 10\n",
    "\n",
    "# Record all the runs here\n",
    "# Key should be Hyperparams and values should be RunResult\n",
    "run_record = {} \n",
    "\n",
    "# Use grid search or random search and record all runs in run_record dictionnary \n",
    "# Important: perform search in logarithmic space!\n",
    "\n",
    "# TODO: Your code here!"
   ]
  },
  {
   "cell_type": "code",
   "execution_count": 71,
   "metadata": {},
   "outputs": [
    {
     "name": "stdout",
     "output_type": "stream",
     "text": [
      "Hyperparams: lr= 0.00767322169435975 ae= 24 reg= 4.508698101595061e-05\n",
      "Average loss: 2.282192, Train accuracy: 0.169266, Val accuracy: 0.109375\n",
      "Average loss: 2.281445, Train accuracy: 0.169727, Val accuracy: 0.250000\n",
      "Average loss: 2.283038, Train accuracy: 0.167816, Val accuracy: 0.203125\n",
      "Average loss: 2.284090, Train accuracy: 0.170682, Val accuracy: 0.156250\n",
      "Average loss: 2.274487, Train accuracy: 0.172798, Val accuracy: 0.234375\n",
      "Average loss: 2.276881, Train accuracy: 0.172781, Val accuracy: 0.171875\n",
      "Average loss: 2.272813, Train accuracy: 0.176842, Val accuracy: 0.281250\n",
      "Average loss: 2.270730, Train accuracy: 0.176927, Val accuracy: 0.140625\n",
      "Average loss: 2.277910, Train accuracy: 0.172900, Val accuracy: 0.109375\n",
      "Average loss: 2.271818, Train accuracy: 0.174880, Val accuracy: 0.125000\n",
      "Average loss: 2.269515, Train accuracy: 0.176996, Val accuracy: 0.218750\n",
      "Average loss: 2.271108, Train accuracy: 0.179043, Val accuracy: 0.125000\n",
      "Average loss: 2.276299, Train accuracy: 0.174436, Val accuracy: 0.171875\n",
      "Average loss: 2.277054, Train accuracy: 0.171791, Val accuracy: 0.203125\n",
      "Average loss: 2.275787, Train accuracy: 0.172730, Val accuracy: 0.187500\n",
      "Average loss: 2.276116, Train accuracy: 0.173634, Val accuracy: 0.156250\n",
      "Average loss: 2.279634, Train accuracy: 0.173532, Val accuracy: 0.218750\n",
      "Average loss: 2.274568, Train accuracy: 0.175067, Val accuracy: 0.203125\n",
      "Average loss: 2.278045, Train accuracy: 0.173463, Val accuracy: 0.218750\n",
      "Average loss: 2.275082, Train accuracy: 0.174948, Val accuracy: 0.281250\n",
      "Hyperparams: lr= 0.004222642110390109 ae= 4 reg= 0.00015503022186332755\n",
      "Average loss: 1.156060, Train accuracy: 0.616166, Val accuracy: 0.625000\n",
      "Average loss: 0.997813, Train accuracy: 0.678105, Val accuracy: 0.687500\n",
      "Average loss: 1.065176, Train accuracy: 0.655121, Val accuracy: 0.515625\n",
      "Average loss: 1.096161, Train accuracy: 0.642648, Val accuracy: 0.671875\n",
      "Average loss: 0.954040, Train accuracy: 0.692745, Val accuracy: 0.718750\n",
      "Average loss: 0.891236, Train accuracy: 0.715524, Val accuracy: 0.671875\n",
      "Average loss: 0.853764, Train accuracy: 0.727366, Val accuracy: 0.781250\n",
      "Average loss: 0.843636, Train accuracy: 0.729499, Val accuracy: 0.812500\n",
      "Average loss: 0.803425, Train accuracy: 0.743132, Val accuracy: 0.750000\n",
      "Average loss: 0.789933, Train accuracy: 0.747364, Val accuracy: 0.734375\n",
      "Average loss: 0.783559, Train accuracy: 0.751476, Val accuracy: 0.781250\n",
      "Average loss: 0.779955, Train accuracy: 0.752329, Val accuracy: 0.750000\n",
      "Average loss: 0.771398, Train accuracy: 0.754360, Val accuracy: 0.781250\n",
      "Average loss: 0.770526, Train accuracy: 0.754837, Val accuracy: 0.765625\n",
      "Average loss: 0.768380, Train accuracy: 0.756237, Val accuracy: 0.781250\n",
      "Average loss: 0.766316, Train accuracy: 0.757141, Val accuracy: 0.781250\n",
      "Average loss: 0.765587, Train accuracy: 0.757448, Val accuracy: 0.796875\n",
      "Average loss: 0.769074, Train accuracy: 0.753268, Val accuracy: 0.750000\n",
      "Average loss: 0.764397, Train accuracy: 0.757738, Val accuracy: 0.812500\n",
      "Average loss: 0.761504, Train accuracy: 0.757823, Val accuracy: 0.781250\n",
      "Hyperparams: lr= 0.0002932532946077782 ae= 5 reg= 5.6653960737601e-07\n",
      "Average loss: 1.509074, Train accuracy: 0.481282, Val accuracy: 0.687500\n",
      "Average loss: 0.882677, Train accuracy: 0.718254, Val accuracy: 0.781250\n",
      "Average loss: 0.741116, Train accuracy: 0.766491, Val accuracy: 0.828125\n",
      "Average loss: 0.677222, Train accuracy: 0.787428, Val accuracy: 0.765625\n",
      "Average loss: 0.637651, Train accuracy: 0.798946, Val accuracy: 0.828125\n",
      "Average loss: 0.591520, Train accuracy: 0.814524, Val accuracy: 0.812500\n",
      "Average loss: 0.577356, Train accuracy: 0.819268, Val accuracy: 0.843750\n",
      "Average loss: 0.574726, Train accuracy: 0.821213, Val accuracy: 0.843750\n",
      "Average loss: 0.564358, Train accuracy: 0.825444, Val accuracy: 0.812500\n",
      "Average loss: 0.563152, Train accuracy: 0.825052, Val accuracy: 0.703125\n",
      "Average loss: 0.553708, Train accuracy: 0.827202, Val accuracy: 0.890625\n",
      "Average loss: 0.548612, Train accuracy: 0.828772, Val accuracy: 0.750000\n",
      "Average loss: 0.547429, Train accuracy: 0.829949, Val accuracy: 0.812500\n",
      "Average loss: 0.548336, Train accuracy: 0.827833, Val accuracy: 0.734375\n",
      "Average loss: 0.545901, Train accuracy: 0.829386, Val accuracy: 0.703125\n",
      "Average loss: 0.544618, Train accuracy: 0.830325, Val accuracy: 0.796875\n",
      "Average loss: 0.543440, Train accuracy: 0.831007, Val accuracy: 0.843750\n",
      "Average loss: 0.546519, Train accuracy: 0.828840, Val accuracy: 0.859375\n",
      "Average loss: 0.544231, Train accuracy: 0.831587, Val accuracy: 0.859375\n",
      "Average loss: 0.542169, Train accuracy: 0.831843, Val accuracy: 0.796875\n",
      "Hyperparams: lr= 0.00571641973586933 ae= 1 reg= 0.0009256203529392525\n",
      "Average loss: 1.207668, Train accuracy: 0.596970, Val accuracy: 0.640625\n",
      "Average loss: 0.864385, Train accuracy: 0.720523, Val accuracy: 0.812500\n",
      "Average loss: 0.752233, Train accuracy: 0.759257, Val accuracy: 0.656250\n",
      "Average loss: 0.724429, Train accuracy: 0.768949, Val accuracy: 0.796875\n",
      "Average loss: 0.720129, Train accuracy: 0.768300, Val accuracy: 0.671875\n",
      "Average loss: 0.716185, Train accuracy: 0.770399, Val accuracy: 0.781250\n",
      "Average loss: 0.717760, Train accuracy: 0.770689, Val accuracy: 0.859375\n",
      "Average loss: 0.717857, Train accuracy: 0.769972, Val accuracy: 0.765625\n",
      "Average loss: 0.718043, Train accuracy: 0.769614, Val accuracy: 0.812500\n",
      "Average loss: 0.715296, Train accuracy: 0.771320, Val accuracy: 0.781250\n",
      "Average loss: 0.718241, Train accuracy: 0.769733, Val accuracy: 0.828125\n",
      "Average loss: 0.715093, Train accuracy: 0.770382, Val accuracy: 0.750000\n",
      "Average loss: 0.716653, Train accuracy: 0.769955, Val accuracy: 0.781250\n",
      "Average loss: 0.717376, Train accuracy: 0.770928, Val accuracy: 0.734375\n",
      "Average loss: 0.715909, Train accuracy: 0.771252, Val accuracy: 0.843750\n",
      "Average loss: 0.716456, Train accuracy: 0.771030, Val accuracy: 0.796875\n",
      "Average loss: 0.716632, Train accuracy: 0.770843, Val accuracy: 0.687500\n",
      "Average loss: 0.718353, Train accuracy: 0.771303, Val accuracy: 0.812500\n",
      "Average loss: 0.718424, Train accuracy: 0.769938, Val accuracy: 0.734375\n",
      "Average loss: 0.718172, Train accuracy: 0.771576, Val accuracy: 0.859375\n",
      "Hyperparams: lr= 0.001109353011906642 ae= 9 reg= 1.739056615772315e-06\n",
      "Average loss: 1.061564, Train accuracy: 0.646470, Val accuracy: 0.843750\n",
      "Average loss: 0.694738, Train accuracy: 0.779477, Val accuracy: 0.796875\n",
      "Average loss: 0.633525, Train accuracy: 0.798041, Val accuracy: 0.812500\n",
      "Average loss: 0.598397, Train accuracy: 0.810975, Val accuracy: 0.890625\n",
      "Average loss: 0.568879, Train accuracy: 0.819899, Val accuracy: 0.906250\n",
      "Average loss: 0.551661, Train accuracy: 0.826673, Val accuracy: 0.843750\n",
      "Average loss: 0.535012, Train accuracy: 0.830700, Val accuracy: 0.859375\n",
      "Average loss: 0.525339, Train accuracy: 0.835290, Val accuracy: 0.828125\n",
      "Average loss: 0.511632, Train accuracy: 0.839965, Val accuracy: 0.875000\n",
      "Average loss: 0.450276, Train accuracy: 0.859997, Val accuracy: 0.890625\n",
      "Average loss: 0.431594, Train accuracy: 0.865645, Val accuracy: 0.859375\n",
      "Average loss: 0.424900, Train accuracy: 0.867334, Val accuracy: 0.781250\n",
      "Average loss: 0.418523, Train accuracy: 0.870849, Val accuracy: 0.906250\n",
      "Average loss: 0.415056, Train accuracy: 0.871071, Val accuracy: 0.859375\n",
      "Average loss: 0.406849, Train accuracy: 0.872982, Val accuracy: 0.890625\n",
      "Average loss: 0.405337, Train accuracy: 0.873153, Val accuracy: 0.875000\n",
      "Average loss: 0.400298, Train accuracy: 0.874876, Val accuracy: 0.859375\n",
      "Average loss: 0.396428, Train accuracy: 0.876668, Val accuracy: 0.890625\n",
      "Average loss: 0.386448, Train accuracy: 0.879790, Val accuracy: 0.828125\n",
      "Average loss: 0.382326, Train accuracy: 0.882196, Val accuracy: 0.906250\n",
      "Hyperparams: lr= 0.00020382424185416966 ae= 3 reg= 2.506608557220335e-07\n",
      "Average loss: 1.633361, Train accuracy: 0.435996, Val accuracy: 0.578125\n",
      "Average loss: 0.970957, Train accuracy: 0.690714, Val accuracy: 0.718750\n",
      "Average loss: 0.807737, Train accuracy: 0.747995, Val accuracy: 0.812500\n",
      "Average loss: 0.721211, Train accuracy: 0.776627, Val accuracy: 0.765625\n",
      "Average loss: 0.703782, Train accuracy: 0.784015, Val accuracy: 0.859375\n",
      "Average loss: 0.685788, Train accuracy: 0.787889, Val accuracy: 0.812500\n",
      "Average loss: 0.674134, Train accuracy: 0.790448, Val accuracy: 0.640625\n",
      "Average loss: 0.673557, Train accuracy: 0.791045, Val accuracy: 0.796875\n",
      "Average loss: 0.669350, Train accuracy: 0.791830, Val accuracy: 0.828125\n",
      "Average loss: 0.668816, Train accuracy: 0.792632, Val accuracy: 0.718750\n",
      "Average loss: 0.664772, Train accuracy: 0.794014, Val accuracy: 0.796875\n",
      "Average loss: 0.667981, Train accuracy: 0.793724, Val accuracy: 0.875000\n",
      "Average loss: 0.665806, Train accuracy: 0.792939, Val accuracy: 0.906250\n",
      "Average loss: 0.666645, Train accuracy: 0.792837, Val accuracy: 0.687500\n",
      "Average loss: 0.665950, Train accuracy: 0.793895, Val accuracy: 0.875000\n",
      "Average loss: 0.664732, Train accuracy: 0.794492, Val accuracy: 0.812500\n",
      "Average loss: 0.666331, Train accuracy: 0.795994, Val accuracy: 0.812500\n",
      "Average loss: 0.667687, Train accuracy: 0.793656, Val accuracy: 0.859375\n",
      "Average loss: 0.663317, Train accuracy: 0.795379, Val accuracy: 0.812500\n",
      "Average loss: 0.665884, Train accuracy: 0.793895, Val accuracy: 0.812500\n",
      "Hyperparams: lr= 0.0006574894740210557 ae= 1 reg= 1.912446445761336e-06\n",
      "Average loss: 1.224563, Train accuracy: 0.588523, Val accuracy: 0.781250\n",
      "Average loss: 0.728920, Train accuracy: 0.770808, Val accuracy: 0.734375\n",
      "Average loss: 0.684943, Train accuracy: 0.786677, Val accuracy: 0.859375\n",
      "Average loss: 0.676357, Train accuracy: 0.790295, Val accuracy: 0.828125\n",
      "Average loss: 0.676901, Train accuracy: 0.789561, Val accuracy: 0.734375\n",
      "Average loss: 0.674268, Train accuracy: 0.789578, Val accuracy: 0.796875\n",
      "Average loss: 0.678980, Train accuracy: 0.788708, Val accuracy: 0.828125\n",
      "Average loss: 0.674661, Train accuracy: 0.790926, Val accuracy: 0.703125\n",
      "Average loss: 0.673368, Train accuracy: 0.790721, Val accuracy: 0.859375\n",
      "Average loss: 0.675416, Train accuracy: 0.789288, Val accuracy: 0.828125\n",
      "Average loss: 0.676396, Train accuracy: 0.790346, Val accuracy: 0.765625\n",
      "Average loss: 0.677442, Train accuracy: 0.790636, Val accuracy: 0.890625\n",
      "Average loss: 0.675810, Train accuracy: 0.790175, Val accuracy: 0.718750\n",
      "Average loss: 0.676104, Train accuracy: 0.789134, Val accuracy: 0.843750\n",
      "Average loss: 0.675905, Train accuracy: 0.789987, Val accuracy: 0.765625\n",
      "Average loss: 0.674413, Train accuracy: 0.790380, Val accuracy: 0.843750\n",
      "Average loss: 0.676991, Train accuracy: 0.790021, Val accuracy: 0.796875\n",
      "Average loss: 0.673795, Train accuracy: 0.790243, Val accuracy: 0.796875\n",
      "Average loss: 0.676408, Train accuracy: 0.788981, Val accuracy: 0.843750\n",
      "Average loss: 0.675769, Train accuracy: 0.789117, Val accuracy: 0.781250\n",
      "Hyperparams: lr= 0.008429735550363271 ae= 7 reg= 0.000571787545096561\n",
      "Average loss: 2.287606, Train accuracy: 0.161451, Val accuracy: 0.109375\n",
      "Average loss: 2.281530, Train accuracy: 0.168925, Val accuracy: 0.187500\n",
      "Average loss: 2.283081, Train accuracy: 0.170221, Val accuracy: 0.156250\n",
      "Average loss: 2.285945, Train accuracy: 0.166399, Val accuracy: 0.140625\n",
      "Average loss: 2.284836, Train accuracy: 0.169232, Val accuracy: 0.218750\n",
      "Average loss: 2.285067, Train accuracy: 0.165700, Val accuracy: 0.156250\n",
      "Average loss: 2.286420, Train accuracy: 0.166178, Val accuracy: 0.140625\n",
      "Average loss: 2.246028, Train accuracy: 0.185510, Val accuracy: 0.265625\n",
      "Average loss: 2.111180, Train accuracy: 0.244446, Val accuracy: 0.484375\n",
      "Average loss: 1.283087, Train accuracy: 0.561768, Val accuracy: 0.562500\n",
      "Average loss: 1.061174, Train accuracy: 0.648398, Val accuracy: 0.718750\n",
      "Average loss: 0.951625, Train accuracy: 0.686841, Val accuracy: 0.671875\n",
      "Average loss: 0.867096, Train accuracy: 0.718476, Val accuracy: 0.703125\n",
      "Average loss: 0.811857, Train accuracy: 0.737331, Val accuracy: 0.703125\n",
      "Average loss: 0.725484, Train accuracy: 0.767055, Val accuracy: 0.812500\n",
      "Average loss: 0.685815, Train accuracy: 0.780108, Val accuracy: 0.828125\n",
      "Average loss: 0.665647, Train accuracy: 0.787513, Val accuracy: 0.765625\n",
      "Average loss: 0.650631, Train accuracy: 0.791301, Val accuracy: 0.750000\n",
      "Average loss: 0.634050, Train accuracy: 0.798280, Val accuracy: 0.765625\n",
      "Average loss: 0.615898, Train accuracy: 0.803962, Val accuracy: 0.796875\n",
      "Hyperparams: lr= 0.02278298599006593 ae= 8 reg= 0.00041914116548626764\n",
      "Average loss: 2.359228, Train accuracy: 0.150855, Val accuracy: 0.234375\n",
      "Average loss: 2.361460, Train accuracy: 0.149029, Val accuracy: 0.078125\n",
      "Average loss: 2.357773, Train accuracy: 0.148415, Val accuracy: 0.203125\n",
      "Average loss: 2.362899, Train accuracy: 0.148142, Val accuracy: 0.140625\n",
      "Average loss: 2.358403, Train accuracy: 0.148193, Val accuracy: 0.156250\n",
      "Average loss: 2.356680, Train accuracy: 0.148824, Val accuracy: 0.156250\n",
      "Average loss: 2.354747, Train accuracy: 0.149575, Val accuracy: 0.171875\n",
      "Average loss: 2.358358, Train accuracy: 0.151350, Val accuracy: 0.156250\n",
      "Average loss: 2.261688, Train accuracy: 0.178019, Val accuracy: 0.156250\n",
      "Average loss: 2.260509, Train accuracy: 0.175955, Val accuracy: 0.046875\n",
      "Average loss: 2.260306, Train accuracy: 0.176211, Val accuracy: 0.156250\n",
      "Average loss: 2.260399, Train accuracy: 0.177422, Val accuracy: 0.140625\n",
      "Average loss: 2.261314, Train accuracy: 0.178617, Val accuracy: 0.078125\n",
      "Average loss: 2.260219, Train accuracy: 0.179521, Val accuracy: 0.250000\n",
      "Average loss: 2.250115, Train accuracy: 0.182029, Val accuracy: 0.359375\n",
      "Average loss: 2.254904, Train accuracy: 0.178053, Val accuracy: 0.171875\n",
      "Average loss: 2.214421, Train accuracy: 0.197744, Val accuracy: 0.312500\n",
      "Average loss: 2.171912, Train accuracy: 0.211975, Val accuracy: 0.187500\n",
      "Average loss: 2.114550, Train accuracy: 0.243234, Val accuracy: 0.171875\n",
      "Average loss: 2.039988, Train accuracy: 0.279101, Val accuracy: 0.218750\n",
      "Hyperparams: lr= 0.011806473372423656 ae= 5 reg= 0.00013806527743451255\n",
      "Average loss: 2.311185, Train accuracy: 0.157100, Val accuracy: 0.234375\n",
      "Average loss: 2.307668, Train accuracy: 0.161741, Val accuracy: 0.109375\n",
      "Average loss: 2.303725, Train accuracy: 0.160154, Val accuracy: 0.234375\n",
      "Average loss: 2.308391, Train accuracy: 0.160871, Val accuracy: 0.250000\n",
      "Average loss: 2.310494, Train accuracy: 0.159847, Val accuracy: 0.125000\n",
      "Average loss: 2.251055, Train accuracy: 0.182558, Val accuracy: 0.140625\n",
      "Average loss: 2.242847, Train accuracy: 0.184930, Val accuracy: 0.156250\n",
      "Average loss: 2.243797, Train accuracy: 0.187319, Val accuracy: 0.187500\n",
      "Average loss: 2.237720, Train accuracy: 0.188087, Val accuracy: 0.187500\n",
      "Average loss: 2.233579, Train accuracy: 0.189417, Val accuracy: 0.125000\n",
      "Average loss: 2.213638, Train accuracy: 0.198444, Val accuracy: 0.234375\n",
      "Average loss: 2.208961, Train accuracy: 0.201072, Val accuracy: 0.250000\n",
      "Average loss: 2.205075, Train accuracy: 0.202402, Val accuracy: 0.265625\n",
      "Average loss: 2.204238, Train accuracy: 0.204723, Val accuracy: 0.250000\n",
      "Average loss: 2.199471, Train accuracy: 0.204484, Val accuracy: 0.250000\n",
      "Average loss: 2.194623, Train accuracy: 0.205900, Val accuracy: 0.187500\n",
      "Average loss: 2.193568, Train accuracy: 0.207402, Val accuracy: 0.296875\n",
      "Average loss: 2.192198, Train accuracy: 0.208392, Val accuracy: 0.250000\n",
      "Average loss: 2.190965, Train accuracy: 0.208306, Val accuracy: 0.171875\n",
      "Average loss: 2.191390, Train accuracy: 0.207709, Val accuracy: 0.187500\n",
      "Hyperparams: lr= 0.04201843428628388 ae= 5 reg= 1.1548182496572816e-05\n",
      "Average loss: 2.450804, Train accuracy: 0.137051, Val accuracy: 0.140625\n",
      "Average loss: 2.469368, Train accuracy: 0.134133, Val accuracy: 0.125000\n",
      "Average loss: 2.454326, Train accuracy: 0.137614, Val accuracy: 0.125000\n",
      "Average loss: 2.470173, Train accuracy: 0.138586, Val accuracy: 0.140625\n",
      "Average loss: 2.459578, Train accuracy: 0.143142, Val accuracy: 0.125000\n",
      "Average loss: 2.272526, Train accuracy: 0.171194, Val accuracy: 0.171875\n",
      "Average loss: 2.272191, Train accuracy: 0.173549, Val accuracy: 0.218750\n",
      "Average loss: 2.276062, Train accuracy: 0.171791, Val accuracy: 0.187500\n",
      "Average loss: 2.281167, Train accuracy: 0.168379, Val accuracy: 0.156250\n",
      "Average loss: 2.279031, Train accuracy: 0.171075, Val accuracy: 0.140625\n",
      "Average loss: 2.234504, Train accuracy: 0.187489, Val accuracy: 0.234375\n",
      "Average loss: 2.227019, Train accuracy: 0.191209, Val accuracy: 0.234375\n",
      "Average loss: 2.226278, Train accuracy: 0.191567, Val accuracy: 0.187500\n",
      "Average loss: 2.224028, Train accuracy: 0.192148, Val accuracy: 0.140625\n",
      "Average loss: 2.222899, Train accuracy: 0.191380, Val accuracy: 0.296875\n",
      "Average loss: 2.210448, Train accuracy: 0.199826, Val accuracy: 0.296875\n",
      "Average loss: 2.208251, Train accuracy: 0.199672, Val accuracy: 0.250000\n",
      "Average loss: 2.206098, Train accuracy: 0.201566, Val accuracy: 0.140625\n",
      "Average loss: 2.204123, Train accuracy: 0.201072, Val accuracy: 0.281250\n",
      "Average loss: 2.204661, Train accuracy: 0.200799, Val accuracy: 0.093750\n",
      "Hyperparams: lr= 0.0026779325060279136 ae= 21 reg= 0.0001851473170032877\n",
      "Average loss: 1.036458, Train accuracy: 0.656963, Val accuracy: 0.734375\n",
      "Average loss: 0.773444, Train accuracy: 0.751920, Val accuracy: 0.843750\n",
      "Average loss: 0.739959, Train accuracy: 0.764853, Val accuracy: 0.703125\n",
      "Average loss: 0.727291, Train accuracy: 0.768300, Val accuracy: 0.703125\n",
      "Average loss: 0.735487, Train accuracy: 0.765485, Val accuracy: 0.734375\n",
      "Average loss: 0.737649, Train accuracy: 0.766764, Val accuracy: 0.750000\n",
      "Average loss: 0.736671, Train accuracy: 0.766491, Val accuracy: 0.796875\n",
      "Average loss: 0.756215, Train accuracy: 0.760025, Val accuracy: 0.781250\n",
      "Average loss: 0.759555, Train accuracy: 0.758096, Val accuracy: 0.781250\n",
      "Average loss: 0.781475, Train accuracy: 0.750384, Val accuracy: 0.796875\n",
      "Average loss: 0.781368, Train accuracy: 0.750691, Val accuracy: 0.828125\n",
      "Average loss: 0.795740, Train accuracy: 0.746050, Val accuracy: 0.796875\n",
      "Average loss: 0.798597, Train accuracy: 0.748507, Val accuracy: 0.718750\n",
      "Average loss: 0.791470, Train accuracy: 0.748882, Val accuracy: 0.765625\n",
      "Average loss: 0.789736, Train accuracy: 0.749190, Val accuracy: 0.796875\n",
      "Average loss: 0.802953, Train accuracy: 0.743269, Val accuracy: 0.734375\n",
      "Average loss: 0.802907, Train accuracy: 0.744753, Val accuracy: 0.875000\n",
      "Average loss: 0.810720, Train accuracy: 0.743559, Val accuracy: 0.734375\n",
      "Average loss: 0.808250, Train accuracy: 0.742228, Val accuracy: 0.703125\n",
      "Average loss: 0.823303, Train accuracy: 0.736222, Val accuracy: 0.734375\n",
      "Hyperparams: lr= 0.003638804872753823 ae= 2 reg= 3.866559225960825e-07\n",
      "Average loss: 1.073998, Train accuracy: 0.643774, Val accuracy: 0.703125\n",
      "Average loss: 0.856673, Train accuracy: 0.723817, Val accuracy: 0.687500\n",
      "Average loss: 0.739559, Train accuracy: 0.764444, Val accuracy: 0.734375\n",
      "Average loss: 0.690797, Train accuracy: 0.780398, Val accuracy: 0.796875\n",
      "Average loss: 0.651564, Train accuracy: 0.792206, Val accuracy: 0.812500\n",
      "Average loss: 0.638374, Train accuracy: 0.796437, Val accuracy: 0.796875\n",
      "Average loss: 0.632605, Train accuracy: 0.798894, Val accuracy: 0.734375\n",
      "Average loss: 0.631054, Train accuracy: 0.799662, Val accuracy: 0.843750\n",
      "Average loss: 0.629094, Train accuracy: 0.800396, Val accuracy: 0.781250\n",
      "Average loss: 0.630280, Train accuracy: 0.800191, Val accuracy: 0.718750\n",
      "Average loss: 0.630149, Train accuracy: 0.799304, Val accuracy: 0.656250\n",
      "Average loss: 0.627432, Train accuracy: 0.799492, Val accuracy: 0.750000\n",
      "Average loss: 0.631388, Train accuracy: 0.798980, Val accuracy: 0.812500\n",
      "Average loss: 0.628889, Train accuracy: 0.800669, Val accuracy: 0.796875\n",
      "Average loss: 0.626528, Train accuracy: 0.799816, Val accuracy: 0.781250\n",
      "Average loss: 0.626231, Train accuracy: 0.800737, Val accuracy: 0.828125\n",
      "Average loss: 0.625079, Train accuracy: 0.800430, Val accuracy: 0.828125\n",
      "Average loss: 0.627610, Train accuracy: 0.800652, Val accuracy: 0.812500\n",
      "Average loss: 0.625654, Train accuracy: 0.802170, Val accuracy: 0.796875\n",
      "Average loss: 0.621530, Train accuracy: 0.801624, Val accuracy: 0.812500\n",
      "Hyperparams: lr= 0.003822703412108291 ae= 1 reg= 2.80953582816825e-07\n",
      "Average loss: 1.095166, Train accuracy: 0.637102, Val accuracy: 0.734375\n",
      "Average loss: 0.727849, Train accuracy: 0.767942, Val accuracy: 0.875000\n",
      "Average loss: 0.659904, Train accuracy: 0.791369, Val accuracy: 0.875000\n",
      "Average loss: 0.642483, Train accuracy: 0.795106, Val accuracy: 0.859375\n",
      "Average loss: 0.644178, Train accuracy: 0.795874, Val accuracy: 0.796875\n",
      "Average loss: 0.641883, Train accuracy: 0.796301, Val accuracy: 0.750000\n",
      "Average loss: 0.635561, Train accuracy: 0.798792, Val accuracy: 0.843750\n",
      "Average loss: 0.639106, Train accuracy: 0.798792, Val accuracy: 0.828125\n",
      "Average loss: 0.638803, Train accuracy: 0.796045, Val accuracy: 0.875000\n",
      "Average loss: 0.641821, Train accuracy: 0.795806, Val accuracy: 0.703125\n",
      "Average loss: 0.641944, Train accuracy: 0.795072, Val accuracy: 0.687500\n",
      "Average loss: 0.641283, Train accuracy: 0.796744, Val accuracy: 0.796875\n",
      "Average loss: 0.639611, Train accuracy: 0.797563, Val accuracy: 0.765625\n",
      "Average loss: 0.638320, Train accuracy: 0.796983, Val accuracy: 0.750000\n",
      "Average loss: 0.639577, Train accuracy: 0.796437, Val accuracy: 0.796875\n",
      "Average loss: 0.641002, Train accuracy: 0.797034, Val accuracy: 0.796875\n",
      "Average loss: 0.638434, Train accuracy: 0.797154, Val accuracy: 0.859375\n",
      "Average loss: 0.642200, Train accuracy: 0.795533, Val accuracy: 0.843750\n",
      "Average loss: 0.638749, Train accuracy: 0.798161, Val accuracy: 0.890625\n",
      "Average loss: 0.640933, Train accuracy: 0.797342, Val accuracy: 0.843750\n",
      "Hyperparams: lr= 0.00015631395168139877 ae= 16 reg= 5.779216358162463e-06\n",
      "Average loss: 1.839213, Train accuracy: 0.364382, Val accuracy: 0.546875\n",
      "Average loss: 1.185371, Train accuracy: 0.624561, Val accuracy: 0.640625\n",
      "Average loss: 0.955360, Train accuracy: 0.700935, Val accuracy: 0.750000\n",
      "Average loss: 0.840622, Train accuracy: 0.738508, Val accuracy: 0.765625\n",
      "Average loss: 0.770692, Train accuracy: 0.759905, Val accuracy: 0.781250\n",
      "Average loss: 0.732140, Train accuracy: 0.772242, Val accuracy: 0.703125\n",
      "Average loss: 0.694917, Train accuracy: 0.783964, Val accuracy: 0.765625\n",
      "Average loss: 0.665858, Train accuracy: 0.791301, Val accuracy: 0.796875\n",
      "Average loss: 0.644594, Train accuracy: 0.799526, Val accuracy: 0.843750\n",
      "Average loss: 0.628830, Train accuracy: 0.804355, Val accuracy: 0.796875\n",
      "Average loss: 0.609968, Train accuracy: 0.811640, Val accuracy: 0.781250\n",
      "Average loss: 0.599373, Train accuracy: 0.813671, Val accuracy: 0.828125\n",
      "Average loss: 0.587209, Train accuracy: 0.817476, Val accuracy: 0.796875\n",
      "Average loss: 0.575988, Train accuracy: 0.821964, Val accuracy: 0.875000\n",
      "Average loss: 0.565018, Train accuracy: 0.825189, Val accuracy: 0.828125\n",
      "Average loss: 0.557086, Train accuracy: 0.826827, Val accuracy: 0.750000\n",
      "Average loss: 0.529118, Train accuracy: 0.837593, Val accuracy: 0.859375\n",
      "Average loss: 0.523641, Train accuracy: 0.839317, Val accuracy: 0.812500\n",
      "Average loss: 0.523698, Train accuracy: 0.839146, Val accuracy: 0.875000\n",
      "Average loss: 0.518808, Train accuracy: 0.840306, Val accuracy: 0.843750\n"
     ]
    }
   ],
   "source": [
    "for i in range(15):\n",
    "    lr = 0.1**np.random.uniform(1,4)\n",
    "    anneal_coeff = 0.2\n",
    "    reg = 0.1**np.random.uniform(3,7)\n",
    "    anneal_epochs = np.random.randint(1,25)\n",
    "    \n",
    "    print(\"Hyperparams: lr=\", lr, \"ae=\", anneal_epochs, \"reg=\", reg)\n",
    "    \n",
    "    lenet_model = nn.Sequential(\n",
    "      nn.Conv2d(3, 6, 5, padding='valid'),\n",
    "      nn.MaxPool2d(2),\n",
    "      nn.Conv2d(6, 16, 5, padding='valid'),\n",
    "      nn.MaxPool2d(2),\n",
    "      Flattener(),\n",
    "      nn.Linear(5*5*16, 120),\n",
    "      nn.Tanh(),\n",
    "      nn.Linear(120, 84),\n",
    "      nn.Tanh(),\n",
    "      nn.Linear(84, 10),\n",
    "      )\n",
    "\n",
    "    tfs = transforms.Compose([\n",
    "      transforms.ColorJitter(hue=.5, saturation=0),\n",
    "      transforms.RandomHorizontalFlip(),\n",
    "      transforms.RandomRotation(10, resample=PIL.Image.BILINEAR),\n",
    "      transforms.RandomGrayscale(0.1),\n",
    "      transforms.RandomInvert(0.05),\n",
    "      transforms.ToTensor(),\n",
    "      transforms.Normalize(mean=[0.43,0.44,0.47],\n",
    "                        std=[0.20,0.20,0.20])                           \n",
    "    ])\n",
    "\n",
    "    data_aug_train = dset.SVHN('./data', \n",
    "                        transform=tfs)\n",
    "\n",
    "    train_aug_loader = torch.utils.data.DataLoader(data_aug_train, batch_size=batch_size, \n",
    "                                            sampler=train_sampler)\n",
    "\n",
    "    lenet_model.type(torch.cuda.FloatTensor)\n",
    "    lenet_model.to(device)\n",
    "\n",
    "    loss = nn.CrossEntropyLoss().type(torch.cuda.FloatTensor)\n",
    "    optimizer = optim.Adam(lenet_model.parameters(), lr=lr, weight_decay=reg)\n",
    "    scheduler = optim.lr_scheduler.StepLR(optimizer, step_size=anneal_epochs, gamma=anneal_coeff)\n",
    "\n",
    "    loss_history, train_history, val_history = train_model(lenet_model, train_aug_loader, val_loader, loss, optimizer, 20, scheduler)\n",
    "\n",
    "    final_val_acc = 0\n",
    "    for v_h in val_history:\n",
    "        final_val_acc+=v_h\n",
    "\n",
    "    final_val_acc = float(final_val_acc)\n",
    "    final_val_acc/=len(val_history)\n",
    "\n",
    "    run_record[Hyperparams(lr, anneal_epochs, reg)] = RunResult(lenet_model, train_history, val_history, final_val_acc)"
   ]
  },
  {
   "cell_type": "code",
   "execution_count": 72,
   "metadata": {
    "id": "Y6xExdw8JB1l"
   },
   "outputs": [
    {
     "name": "stdout",
     "output_type": "stream",
     "text": [
      "Best validation accuracy: 0.86, best hyperparams: Hyperparams(learning_rate=0.001109353011906642, anneal_epochs=9, reg=1.739056615772315e-06)\n"
     ]
    }
   ],
   "source": [
    "best_val_accuracy = None\n",
    "best_hyperparams = None\n",
    "best_run = None\n",
    "\n",
    "for hyperparams, run_result in run_record.items():\n",
    "    if best_val_accuracy is None or best_val_accuracy < run_result.final_val_accuracy:\n",
    "        best_val_accuracy = run_result.final_val_accuracy\n",
    "        best_hyperparams = hyperparams\n",
    "        best_run = run_result\n",
    "        \n",
    "print(\"Best validation accuracy: %4.2f, best hyperparams: %s\" % (best_val_accuracy, best_hyperparams))"
   ]
  },
  {
   "cell_type": "markdown",
   "metadata": {
    "id": "LOmsR0uVgtgf"
   },
   "source": [
    "# Свободное упражнение - догоним и перегоним LeNet!\n",
    "\n",
    "Попробуйте найти архитектуру и настройки тренировки, чтобы выступить лучше наших бейзлайнов.\n",
    "\n",
    "Что можно и нужно попробовать:\n",
    "- BatchNormalization (для convolution layers он в PyTorch называется [batchnorm2d](https://pytorch.org/docs/stable/nn.html#batchnorm2d))\n",
    "- Изменить количество слоев и их толщину\n",
    "- Изменять количество эпох тренировки\n",
    "- Попробовать и другие агментации"
   ]
  },
  {
   "cell_type": "code",
   "execution_count": null,
   "metadata": {
    "id": "tSVhD747icoc"
   },
   "outputs": [],
   "source": [
    "best_model = None"
   ]
  },
  {
   "cell_type": "markdown",
   "metadata": {
    "id": "ubeKgBcnhx7N"
   },
   "source": [
    "# Финальный аккорд - проверим лучшую модель на test set\n",
    "\n",
    "В качестве разнообразия - напишите код для прогона модели на test set вы.\n",
    "\n",
    "В результате вы должны натренировать модель, которая покажет более **90%** точности на test set.  \n",
    "Как водится, лучший результат в группе получит дополнительные баллы!"
   ]
  },
  {
   "cell_type": "code",
   "execution_count": null,
   "metadata": {
    "id": "EIqM1kdeh-hd"
   },
   "outputs": [],
   "source": [
    "# TODO Write the code to compute accuracy on test set\n",
    "final_test_accuracy = 0.0\n",
    "print(\"Final test accuracy - \", final_test_accuracy)"
   ]
  },
  {
   "cell_type": "code",
   "execution_count": null,
   "metadata": {
    "id": "BfH6qip6kVX_"
   },
   "outputs": [],
   "source": []
  }
 ],
 "metadata": {
  "accelerator": "GPU",
  "colab": {
   "collapsed_sections": [],
   "name": "PyTorch_CNN.ipynb",
   "provenance": []
  },
  "kernelspec": {
   "display_name": "Python 3 (ipykernel)",
   "language": "python",
   "name": "python3"
  },
  "language_info": {
   "codemirror_mode": {
    "name": "ipython",
    "version": 3
   },
   "file_extension": ".py",
   "mimetype": "text/x-python",
   "name": "python",
   "nbconvert_exporter": "python",
   "pygments_lexer": "ipython3",
   "version": "3.8.13"
  }
 },
 "nbformat": 4,
 "nbformat_minor": 4
}
